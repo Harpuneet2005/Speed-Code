{
 "cells": [
  {
   "cell_type": "code",
   "execution_count": 1,
   "id": "f7ef6bd3",
   "metadata": {},
   "outputs": [],
   "source": [
    "%config IPCompleter.use_jedi=False\n",
    "%matplotlib inline\n",
    "\n",
    "import pandas as pd\n",
    "import numpy as np\n",
    "from tensorflow import keras\n",
    "import matplotlib.pyplot as plt"
   ]
  },
  {
   "cell_type": "code",
   "execution_count": 2,
   "id": "a8c29d54",
   "metadata": {},
   "outputs": [],
   "source": [
    "fmnist=keras.datasets.fashion_mnist\n"
   ]
  },
  {
   "cell_type": "code",
   "execution_count": 3,
   "id": "6a3f705e",
   "metadata": {},
   "outputs": [
    {
     "name": "stdout",
     "output_type": "stream",
     "text": [
      "Downloading data from https://storage.googleapis.com/tensorflow/tf-keras-datasets/train-labels-idx1-ubyte.gz\n",
      "32768/29515 [=================================] - 0s 2us/step\n",
      "40960/29515 [=========================================] - 0s 2us/step\n",
      "Downloading data from https://storage.googleapis.com/tensorflow/tf-keras-datasets/train-images-idx3-ubyte.gz\n",
      "26427392/26421880 [==============================] - 3s 0us/step\n",
      "26435584/26421880 [==============================] - 3s 0us/step\n",
      "Downloading data from https://storage.googleapis.com/tensorflow/tf-keras-datasets/t10k-labels-idx1-ubyte.gz\n",
      "16384/5148 [===============================================================================================] - 0s 0s/step\n",
      "Downloading data from https://storage.googleapis.com/tensorflow/tf-keras-datasets/t10k-images-idx3-ubyte.gz\n",
      "4423680/4422102 [==============================] - 0s 0us/step\n",
      "4431872/4422102 [==============================] - 0s 0us/step\n"
     ]
    }
   ],
   "source": [
    "(x_train, y_train), (x_test, y_test)=fmnist.load_data()"
   ]
  },
  {
   "cell_type": "code",
   "execution_count": 112,
   "id": "cf367c25",
   "metadata": {},
   "outputs": [
    {
     "data": {
      "text/plain": [
       "array([[0.        , 0.        , 0.        , 0.        , 0.        ,\n",
       "        0.        , 0.        , 0.        , 0.        , 0.        ,\n",
       "        0.        , 0.        , 0.        , 0.        , 0.        ,\n",
       "        0.        , 0.        , 0.        , 0.        , 0.        ,\n",
       "        0.        , 0.        , 0.        , 0.        , 0.        ,\n",
       "        0.        , 0.        , 0.        ],\n",
       "       [0.        , 0.        , 0.        , 0.        , 0.        ,\n",
       "        0.        , 0.        , 0.        , 0.        , 0.        ,\n",
       "        0.        , 0.        , 0.        , 0.        , 0.        ,\n",
       "        0.        , 0.        , 0.        , 0.        , 0.        ,\n",
       "        0.        , 0.        , 0.        , 0.        , 0.        ,\n",
       "        0.        , 0.        , 0.        ],\n",
       "       [0.        , 0.        , 0.        , 0.        , 0.        ,\n",
       "        0.        , 0.        , 0.        , 0.        , 0.        ,\n",
       "        0.        , 0.        , 0.        , 0.        , 0.        ,\n",
       "        0.        , 0.        , 0.        , 0.        , 0.        ,\n",
       "        0.        , 0.        , 0.        , 0.        , 0.        ,\n",
       "        0.        , 0.        , 0.        ],\n",
       "       [0.        , 0.        , 0.        , 0.        , 0.        ,\n",
       "        0.        , 0.        , 0.        , 0.        , 0.        ,\n",
       "        0.        , 0.        , 0.00392157, 0.        , 0.        ,\n",
       "        0.05098039, 0.28627451, 0.        , 0.        , 0.00392157,\n",
       "        0.01568627, 0.        , 0.        , 0.        , 0.        ,\n",
       "        0.00392157, 0.00392157, 0.        ],\n",
       "       [0.        , 0.        , 0.        , 0.        , 0.        ,\n",
       "        0.        , 0.        , 0.        , 0.        , 0.        ,\n",
       "        0.        , 0.        , 0.01176471, 0.        , 0.14117647,\n",
       "        0.53333333, 0.49803922, 0.24313725, 0.21176471, 0.        ,\n",
       "        0.        , 0.        , 0.00392157, 0.01176471, 0.01568627,\n",
       "        0.        , 0.        , 0.01176471],\n",
       "       [0.        , 0.        , 0.        , 0.        , 0.        ,\n",
       "        0.        , 0.        , 0.        , 0.        , 0.        ,\n",
       "        0.        , 0.        , 0.02352941, 0.        , 0.4       ,\n",
       "        0.8       , 0.69019608, 0.5254902 , 0.56470588, 0.48235294,\n",
       "        0.09019608, 0.        , 0.        , 0.        , 0.        ,\n",
       "        0.04705882, 0.03921569, 0.        ],\n",
       "       [0.        , 0.        , 0.        , 0.        , 0.        ,\n",
       "        0.        , 0.        , 0.        , 0.        , 0.        ,\n",
       "        0.        , 0.        , 0.        , 0.        , 0.60784314,\n",
       "        0.9254902 , 0.81176471, 0.69803922, 0.41960784, 0.61176471,\n",
       "        0.63137255, 0.42745098, 0.25098039, 0.09019608, 0.30196078,\n",
       "        0.50980392, 0.28235294, 0.05882353],\n",
       "       [0.        , 0.        , 0.        , 0.        , 0.        ,\n",
       "        0.        , 0.        , 0.        , 0.        , 0.        ,\n",
       "        0.        , 0.00392157, 0.        , 0.27058824, 0.81176471,\n",
       "        0.8745098 , 0.85490196, 0.84705882, 0.84705882, 0.63921569,\n",
       "        0.49803922, 0.4745098 , 0.47843137, 0.57254902, 0.55294118,\n",
       "        0.34509804, 0.6745098 , 0.25882353],\n",
       "       [0.        , 0.        , 0.        , 0.        , 0.        ,\n",
       "        0.        , 0.        , 0.        , 0.        , 0.00392157,\n",
       "        0.00392157, 0.00392157, 0.        , 0.78431373, 0.90980392,\n",
       "        0.90980392, 0.91372549, 0.89803922, 0.8745098 , 0.8745098 ,\n",
       "        0.84313725, 0.83529412, 0.64313725, 0.49803922, 0.48235294,\n",
       "        0.76862745, 0.89803922, 0.        ],\n",
       "       [0.        , 0.        , 0.        , 0.        , 0.        ,\n",
       "        0.        , 0.        , 0.        , 0.        , 0.        ,\n",
       "        0.        , 0.        , 0.        , 0.71764706, 0.88235294,\n",
       "        0.84705882, 0.8745098 , 0.89411765, 0.92156863, 0.89019608,\n",
       "        0.87843137, 0.87058824, 0.87843137, 0.86666667, 0.8745098 ,\n",
       "        0.96078431, 0.67843137, 0.        ],\n",
       "       [0.        , 0.        , 0.        , 0.        , 0.        ,\n",
       "        0.        , 0.        , 0.        , 0.        , 0.        ,\n",
       "        0.        , 0.        , 0.        , 0.75686275, 0.89411765,\n",
       "        0.85490196, 0.83529412, 0.77647059, 0.70588235, 0.83137255,\n",
       "        0.82352941, 0.82745098, 0.83529412, 0.8745098 , 0.8627451 ,\n",
       "        0.95294118, 0.79215686, 0.        ],\n",
       "       [0.        , 0.        , 0.        , 0.        , 0.        ,\n",
       "        0.        , 0.        , 0.        , 0.        , 0.00392157,\n",
       "        0.01176471, 0.        , 0.04705882, 0.85882353, 0.8627451 ,\n",
       "        0.83137255, 0.85490196, 0.75294118, 0.6627451 , 0.89019608,\n",
       "        0.81568627, 0.85490196, 0.87843137, 0.83137255, 0.88627451,\n",
       "        0.77254902, 0.81960784, 0.20392157],\n",
       "       [0.        , 0.        , 0.        , 0.        , 0.        ,\n",
       "        0.        , 0.        , 0.        , 0.        , 0.        ,\n",
       "        0.02352941, 0.        , 0.38823529, 0.95686275, 0.87058824,\n",
       "        0.8627451 , 0.85490196, 0.79607843, 0.77647059, 0.86666667,\n",
       "        0.84313725, 0.83529412, 0.87058824, 0.8627451 , 0.96078431,\n",
       "        0.46666667, 0.65490196, 0.21960784],\n",
       "       [0.        , 0.        , 0.        , 0.        , 0.        ,\n",
       "        0.        , 0.        , 0.        , 0.        , 0.01568627,\n",
       "        0.        , 0.        , 0.21568627, 0.9254902 , 0.89411765,\n",
       "        0.90196078, 0.89411765, 0.94117647, 0.90980392, 0.83529412,\n",
       "        0.85490196, 0.8745098 , 0.91764706, 0.85098039, 0.85098039,\n",
       "        0.81960784, 0.36078431, 0.        ],\n",
       "       [0.        , 0.        , 0.00392157, 0.01568627, 0.02352941,\n",
       "        0.02745098, 0.00784314, 0.        , 0.        , 0.        ,\n",
       "        0.        , 0.        , 0.92941176, 0.88627451, 0.85098039,\n",
       "        0.8745098 , 0.87058824, 0.85882353, 0.87058824, 0.86666667,\n",
       "        0.84705882, 0.8745098 , 0.89803922, 0.84313725, 0.85490196,\n",
       "        1.        , 0.30196078, 0.        ],\n",
       "       [0.        , 0.01176471, 0.        , 0.        , 0.        ,\n",
       "        0.        , 0.        , 0.        , 0.        , 0.24313725,\n",
       "        0.56862745, 0.8       , 0.89411765, 0.81176471, 0.83529412,\n",
       "        0.86666667, 0.85490196, 0.81568627, 0.82745098, 0.85490196,\n",
       "        0.87843137, 0.8745098 , 0.85882353, 0.84313725, 0.87843137,\n",
       "        0.95686275, 0.62352941, 0.        ],\n",
       "       [0.        , 0.        , 0.        , 0.        , 0.07058824,\n",
       "        0.17254902, 0.32156863, 0.41960784, 0.74117647, 0.89411765,\n",
       "        0.8627451 , 0.87058824, 0.85098039, 0.88627451, 0.78431373,\n",
       "        0.80392157, 0.82745098, 0.90196078, 0.87843137, 0.91764706,\n",
       "        0.69019608, 0.7372549 , 0.98039216, 0.97254902, 0.91372549,\n",
       "        0.93333333, 0.84313725, 0.        ],\n",
       "       [0.        , 0.22352941, 0.73333333, 0.81568627, 0.87843137,\n",
       "        0.86666667, 0.87843137, 0.81568627, 0.8       , 0.83921569,\n",
       "        0.81568627, 0.81960784, 0.78431373, 0.62352941, 0.96078431,\n",
       "        0.75686275, 0.80784314, 0.8745098 , 1.        , 1.        ,\n",
       "        0.86666667, 0.91764706, 0.86666667, 0.82745098, 0.8627451 ,\n",
       "        0.90980392, 0.96470588, 0.        ],\n",
       "       [0.01176471, 0.79215686, 0.89411765, 0.87843137, 0.86666667,\n",
       "        0.82745098, 0.82745098, 0.83921569, 0.80392157, 0.80392157,\n",
       "        0.80392157, 0.8627451 , 0.94117647, 0.31372549, 0.58823529,\n",
       "        1.        , 0.89803922, 0.86666667, 0.7372549 , 0.60392157,\n",
       "        0.74901961, 0.82352941, 0.8       , 0.81960784, 0.87058824,\n",
       "        0.89411765, 0.88235294, 0.        ],\n",
       "       [0.38431373, 0.91372549, 0.77647059, 0.82352941, 0.87058824,\n",
       "        0.89803922, 0.89803922, 0.91764706, 0.97647059, 0.8627451 ,\n",
       "        0.76078431, 0.84313725, 0.85098039, 0.94509804, 0.25490196,\n",
       "        0.28627451, 0.41568627, 0.45882353, 0.65882353, 0.85882353,\n",
       "        0.86666667, 0.84313725, 0.85098039, 0.8745098 , 0.8745098 ,\n",
       "        0.87843137, 0.89803922, 0.11372549],\n",
       "       [0.29411765, 0.8       , 0.83137255, 0.8       , 0.75686275,\n",
       "        0.80392157, 0.82745098, 0.88235294, 0.84705882, 0.7254902 ,\n",
       "        0.77254902, 0.80784314, 0.77647059, 0.83529412, 0.94117647,\n",
       "        0.76470588, 0.89019608, 0.96078431, 0.9372549 , 0.8745098 ,\n",
       "        0.85490196, 0.83137255, 0.81960784, 0.87058824, 0.8627451 ,\n",
       "        0.86666667, 0.90196078, 0.2627451 ],\n",
       "       [0.18823529, 0.79607843, 0.71764706, 0.76078431, 0.83529412,\n",
       "        0.77254902, 0.7254902 , 0.74509804, 0.76078431, 0.75294118,\n",
       "        0.79215686, 0.83921569, 0.85882353, 0.86666667, 0.8627451 ,\n",
       "        0.9254902 , 0.88235294, 0.84705882, 0.78039216, 0.80784314,\n",
       "        0.72941176, 0.70980392, 0.69411765, 0.6745098 , 0.70980392,\n",
       "        0.80392157, 0.80784314, 0.45098039],\n",
       "       [0.        , 0.47843137, 0.85882353, 0.75686275, 0.70196078,\n",
       "        0.67058824, 0.71764706, 0.76862745, 0.8       , 0.82352941,\n",
       "        0.83529412, 0.81176471, 0.82745098, 0.82352941, 0.78431373,\n",
       "        0.76862745, 0.76078431, 0.74901961, 0.76470588, 0.74901961,\n",
       "        0.77647059, 0.75294118, 0.69019608, 0.61176471, 0.65490196,\n",
       "        0.69411765, 0.82352941, 0.36078431],\n",
       "       [0.        , 0.        , 0.29019608, 0.74117647, 0.83137255,\n",
       "        0.74901961, 0.68627451, 0.6745098 , 0.68627451, 0.70980392,\n",
       "        0.7254902 , 0.7372549 , 0.74117647, 0.7372549 , 0.75686275,\n",
       "        0.77647059, 0.8       , 0.81960784, 0.82352941, 0.82352941,\n",
       "        0.82745098, 0.7372549 , 0.7372549 , 0.76078431, 0.75294118,\n",
       "        0.84705882, 0.66666667, 0.        ],\n",
       "       [0.00784314, 0.        , 0.        , 0.        , 0.25882353,\n",
       "        0.78431373, 0.87058824, 0.92941176, 0.9372549 , 0.94901961,\n",
       "        0.96470588, 0.95294118, 0.95686275, 0.86666667, 0.8627451 ,\n",
       "        0.75686275, 0.74901961, 0.70196078, 0.71372549, 0.71372549,\n",
       "        0.70980392, 0.69019608, 0.65098039, 0.65882353, 0.38823529,\n",
       "        0.22745098, 0.        , 0.        ],\n",
       "       [0.        , 0.        , 0.        , 0.        , 0.        ,\n",
       "        0.        , 0.        , 0.15686275, 0.23921569, 0.17254902,\n",
       "        0.28235294, 0.16078431, 0.1372549 , 0.        , 0.        ,\n",
       "        0.        , 0.        , 0.        , 0.        , 0.        ,\n",
       "        0.        , 0.        , 0.        , 0.        , 0.        ,\n",
       "        0.        , 0.        , 0.        ],\n",
       "       [0.        , 0.        , 0.        , 0.        , 0.        ,\n",
       "        0.        , 0.        , 0.        , 0.        , 0.        ,\n",
       "        0.        , 0.        , 0.        , 0.        , 0.        ,\n",
       "        0.        , 0.        , 0.        , 0.        , 0.        ,\n",
       "        0.        , 0.        , 0.        , 0.        , 0.        ,\n",
       "        0.        , 0.        , 0.        ],\n",
       "       [0.        , 0.        , 0.        , 0.        , 0.        ,\n",
       "        0.        , 0.        , 0.        , 0.        , 0.        ,\n",
       "        0.        , 0.        , 0.        , 0.        , 0.        ,\n",
       "        0.        , 0.        , 0.        , 0.        , 0.        ,\n",
       "        0.        , 0.        , 0.        , 0.        , 0.        ,\n",
       "        0.        , 0.        , 0.        ]])"
      ]
     },
     "execution_count": 112,
     "metadata": {},
     "output_type": "execute_result"
    }
   ],
   "source": [
    "x_train[0]/255"
   ]
  },
  {
   "cell_type": "code",
   "execution_count": 95,
   "id": "93014900",
   "metadata": {},
   "outputs": [
    {
     "data": {
      "text/plain": [
       "45"
      ]
     },
     "execution_count": 95,
     "metadata": {},
     "output_type": "execute_result"
    }
   ],
   "source": [
    "y_train"
   ]
  },
  {
   "cell_type": "code",
   "execution_count": 6,
   "id": "a18574f8",
   "metadata": {},
   "outputs": [
    {
     "data": {
      "text/plain": [
       "(10000, 28, 28)"
      ]
     },
     "execution_count": 6,
     "metadata": {},
     "output_type": "execute_result"
    }
   ],
   "source": [
    "x_test.shape"
   ]
  },
  {
   "cell_type": "code",
   "execution_count": 7,
   "id": "c05d5c8f",
   "metadata": {},
   "outputs": [],
   "source": [
    "class_names = ['T-shirt/top', 'Trouser', 'Pullover', 'Dress', 'Coat',\n",
    "               'Sandal', 'Shirt', 'Sneaker', 'Bag', 'Ankle boot']"
   ]
  },
  {
   "cell_type": "code",
   "execution_count": 106,
   "id": "c657a072",
   "metadata": {},
   "outputs": [],
   "source": [
    "model=keras.models.Sequential()"
   ]
  },
  {
   "cell_type": "code",
   "execution_count": 107,
   "id": "bcb13dd4",
   "metadata": {},
   "outputs": [],
   "source": [
    "model.add(keras.layers.Flatten(input_shape=(28,28)))\n",
    "model.add(keras.layers.Dense(128,activation='relu'))\n",
    "model.add(keras.layers.Dense(64,activation='relu'))\n",
    "model.add(keras.layers.Dense(10))\n"
   ]
  },
  {
   "cell_type": "code",
   "execution_count": 108,
   "id": "6ae823bb",
   "metadata": {},
   "outputs": [],
   "source": [
    "model.compile(optimizer=keras.optimizers.Adam(),loss=keras.losses.SparseCategoricalCrossentropy(from_logits=True),metrics=[\"accuracy\"])"
   ]
  },
  {
   "cell_type": "code",
   "execution_count": 109,
   "id": "af0a0664",
   "metadata": {},
   "outputs": [
    {
     "name": "stdout",
     "output_type": "stream",
     "text": [
      "Model: \"sequential_13\"\n",
      "_________________________________________________________________\n",
      "Layer (type)                 Output Shape              Param #   \n",
      "=================================================================\n",
      "flatten_18 (Flatten)         (None, 784)               0         \n",
      "_________________________________________________________________\n",
      "dense_35 (Dense)             (None, 128)               100480    \n",
      "_________________________________________________________________\n",
      "dense_36 (Dense)             (None, 64)                8256      \n",
      "_________________________________________________________________\n",
      "dense_37 (Dense)             (None, 10)                650       \n",
      "=================================================================\n",
      "Total params: 109,386\n",
      "Trainable params: 109,386\n",
      "Non-trainable params: 0\n",
      "_________________________________________________________________\n"
     ]
    }
   ],
   "source": [
    "model.summary()"
   ]
  },
  {
   "cell_type": "code",
   "execution_count": 110,
   "id": "6cf29d17",
   "metadata": {},
   "outputs": [
    {
     "name": "stdout",
     "output_type": "stream",
     "text": [
      "Epoch 1/50\n",
      "2398/2400 [============================>.] - ETA: 0s - loss: 2.7414 - accuracy: 0.7391WARNING:tensorflow:Callbacks method `on_test_batch_end` is slow compared to the batch time (batch time: 0.0000s vs `on_test_batch_end` time: 0.0010s). Check your callbacks.\n",
      "2400/2400 [==============================] - 7s 3ms/step - loss: 2.7394 - accuracy: 0.7392 - val_loss: 0.7097 - val_accuracy: 0.8030\n",
      "Epoch 2/50\n",
      "2400/2400 [==============================] - 6s 3ms/step - loss: 0.6671 - accuracy: 0.7835 - val_loss: 0.6105 - val_accuracy: 0.7952\n",
      "Epoch 3/50\n",
      "2400/2400 [==============================] - 7s 3ms/step - loss: 0.5824 - accuracy: 0.8019 - val_loss: 0.4781 - val_accuracy: 0.8342\n",
      "Epoch 4/50\n",
      "2400/2400 [==============================] - 7s 3ms/step - loss: 0.5101 - accuracy: 0.8199 - val_loss: 0.5067 - val_accuracy: 0.8263\n",
      "Epoch 5/50\n",
      "2400/2400 [==============================] - 8s 3ms/step - loss: 0.4785 - accuracy: 0.8325 - val_loss: 0.5559 - val_accuracy: 0.8117\n",
      "Epoch 6/50\n",
      "2400/2400 [==============================] - 7s 3ms/step - loss: 0.4453 - accuracy: 0.8416 - val_loss: 0.4365 - val_accuracy: 0.8464\n",
      "Epoch 7/50\n",
      "2400/2400 [==============================] - 7s 3ms/step - loss: 0.4288 - accuracy: 0.8483 - val_loss: 0.4687 - val_accuracy: 0.8435\n",
      "Epoch 8/50\n",
      "2400/2400 [==============================] - 7s 3ms/step - loss: 0.4045 - accuracy: 0.8544 - val_loss: 0.4393 - val_accuracy: 0.8452\n",
      "Epoch 9/50\n",
      "2400/2400 [==============================] - 7s 3ms/step - loss: 0.3962 - accuracy: 0.8551 - val_loss: 0.4189 - val_accuracy: 0.8547\n",
      "Epoch 10/50\n",
      "2400/2400 [==============================] - 8s 3ms/step - loss: 0.3927 - accuracy: 0.8578 - val_loss: 0.5259 - val_accuracy: 0.8228\n",
      "Epoch 11/50\n",
      "2400/2400 [==============================] - 6s 3ms/step - loss: 0.3884 - accuracy: 0.8624 - val_loss: 0.4199 - val_accuracy: 0.8480\n",
      "Epoch 12/50\n",
      "2400/2400 [==============================] - 7s 3ms/step - loss: 0.3815 - accuracy: 0.8622 - val_loss: 0.4430 - val_accuracy: 0.8488\n",
      "Epoch 13/50\n",
      "2400/2400 [==============================] - 7s 3ms/step - loss: 0.3759 - accuracy: 0.8647 - val_loss: 0.4183 - val_accuracy: 0.8601\n",
      "Epoch 14/50\n",
      "2400/2400 [==============================] - 7s 3ms/step - loss: 0.3716 - accuracy: 0.8661 - val_loss: 0.4266 - val_accuracy: 0.8544\n",
      "Epoch 15/50\n",
      "2400/2400 [==============================] - 7s 3ms/step - loss: 0.3661 - accuracy: 0.8677 - val_loss: 0.4143 - val_accuracy: 0.8594\n",
      "Epoch 16/50\n",
      "2400/2400 [==============================] - 7s 3ms/step - loss: 0.3643 - accuracy: 0.8685 - val_loss: 0.4440 - val_accuracy: 0.8465\n",
      "Epoch 17/50\n",
      "2400/2400 [==============================] - 7s 3ms/step - loss: 0.3694 - accuracy: 0.8693 - val_loss: 0.4201 - val_accuracy: 0.8628\n",
      "Epoch 18/50\n",
      "2400/2400 [==============================] - 6s 3ms/step - loss: 0.3594 - accuracy: 0.8691 - val_loss: 0.4182 - val_accuracy: 0.8603\n",
      "Epoch 19/50\n",
      "2400/2400 [==============================] - 8s 3ms/step - loss: 0.3596 - accuracy: 0.8707 - val_loss: 0.4321 - val_accuracy: 0.8529\n",
      "Epoch 20/50\n",
      "2400/2400 [==============================] - 7s 3ms/step - loss: 0.3518 - accuracy: 0.8725 - val_loss: 0.4586 - val_accuracy: 0.8469\n",
      "Epoch 21/50\n",
      "2400/2400 [==============================] - 7s 3ms/step - loss: 0.3522 - accuracy: 0.8725 - val_loss: 0.4376 - val_accuracy: 0.8568\n",
      "Epoch 22/50\n",
      "2400/2400 [==============================] - 7s 3ms/step - loss: 0.3508 - accuracy: 0.8728 - val_loss: 0.4692 - val_accuracy: 0.8485\n",
      "Epoch 23/50\n",
      "2400/2400 [==============================] - 7s 3ms/step - loss: 0.3492 - accuracy: 0.8728 - val_loss: 0.4483 - val_accuracy: 0.8577\n",
      "Epoch 24/50\n",
      "2400/2400 [==============================] - 8s 3ms/step - loss: 0.3470 - accuracy: 0.8748 - val_loss: 0.4786 - val_accuracy: 0.8558\n",
      "Epoch 25/50\n",
      "2400/2400 [==============================] - 7s 3ms/step - loss: 0.3442 - accuracy: 0.8758 - val_loss: 0.4209 - val_accuracy: 0.8621\n",
      "Epoch 26/50\n",
      "2400/2400 [==============================] - 6s 3ms/step - loss: 0.3410 - accuracy: 0.8745 - val_loss: 0.4599 - val_accuracy: 0.8544\n",
      "Epoch 27/50\n",
      "2400/2400 [==============================] - 6s 3ms/step - loss: 0.3509 - accuracy: 0.8761 - val_loss: 0.4182 - val_accuracy: 0.8591\n",
      "Epoch 28/50\n",
      "2400/2400 [==============================] - 7s 3ms/step - loss: 0.3518 - accuracy: 0.8783 - val_loss: 0.4478 - val_accuracy: 0.8600\n",
      "Epoch 29/50\n",
      "2400/2400 [==============================] - 9s 4ms/step - loss: 0.3394 - accuracy: 0.8777 - val_loss: 0.4631 - val_accuracy: 0.8601\n",
      "Epoch 30/50\n",
      "2400/2400 [==============================] - 7s 3ms/step - loss: 0.3437 - accuracy: 0.8781 - val_loss: 0.4416 - val_accuracy: 0.8610\n",
      "Epoch 31/50\n",
      "2400/2400 [==============================] - 11s 5ms/step - loss: 0.3312 - accuracy: 0.8785 - val_loss: 0.4727 - val_accuracy: 0.8489\n",
      "Epoch 32/50\n",
      "2400/2400 [==============================] - 8s 3ms/step - loss: 0.3325 - accuracy: 0.8773 - val_loss: 0.4589 - val_accuracy: 0.8590\n",
      "Epoch 33/50\n",
      "2400/2400 [==============================] - 10s 4ms/step - loss: 0.3400 - accuracy: 0.8783 - val_loss: 0.4494 - val_accuracy: 0.8648\n",
      "Epoch 34/50\n",
      "2400/2400 [==============================] - 9s 4ms/step - loss: 0.3244 - accuracy: 0.8799 - val_loss: 0.4839 - val_accuracy: 0.8557\n",
      "Epoch 35/50\n",
      "2400/2400 [==============================] - 9s 4ms/step - loss: 0.3247 - accuracy: 0.8817 - val_loss: 0.4899 - val_accuracy: 0.8685\n",
      "Epoch 36/50\n",
      "2400/2400 [==============================] - 9s 4ms/step - loss: 0.3420 - accuracy: 0.8790 - val_loss: 0.4542 - val_accuracy: 0.8610\n",
      "Epoch 37/50\n",
      "2400/2400 [==============================] - 9s 4ms/step - loss: 0.3378 - accuracy: 0.8801 - val_loss: 0.4835 - val_accuracy: 0.8563\n",
      "Epoch 38/50\n",
      "2400/2400 [==============================] - 9s 4ms/step - loss: 0.3338 - accuracy: 0.8799 - val_loss: 0.5030 - val_accuracy: 0.8565 - loss: 0.3313 - accura - ETA: 0s - loss: 0.3329 - \n",
      "Epoch 39/50\n",
      "2400/2400 [==============================] - 9s 4ms/step - loss: 0.3228 - accuracy: 0.8833 - val_loss: 0.4484 - val_accuracy: 0.8657\n",
      "Epoch 40/50\n",
      "2400/2400 [==============================] - 9s 4ms/step - loss: 0.3311 - accuracy: 0.8821 - val_loss: 0.4798 - val_accuracy: 0.8681\n",
      "Epoch 41/50\n",
      "2400/2400 [==============================] - 9s 4ms/step - loss: 0.3271 - accuracy: 0.8828 - val_loss: 0.4872 - val_accuracy: 0.8599\n",
      "Epoch 42/50\n",
      "2400/2400 [==============================] - 10s 4ms/step - loss: 0.3263 - accuracy: 0.8828 - val_loss: 0.5111 - val_accuracy: 0.8529\n",
      "Epoch 43/50\n",
      "2400/2400 [==============================] - 9s 4ms/step - loss: 0.3278 - accuracy: 0.8823 - val_loss: 0.4955 - val_accuracy: 0.8553\n",
      "Epoch 44/50\n",
      "2400/2400 [==============================] - 9s 4ms/step - loss: 0.3186 - accuracy: 0.8848 - val_loss: 0.4750 - val_accuracy: 0.8547\n",
      "Epoch 45/50\n",
      "2400/2400 [==============================] - 8s 4ms/step - loss: 0.3175 - accuracy: 0.8849 - val_loss: 0.5151 - val_accuracy: 0.8575\n",
      "Epoch 46/50\n",
      "2400/2400 [==============================] - 8s 4ms/step - loss: 0.3281 - accuracy: 0.8834 - val_loss: 0.5052 - val_accuracy: 0.8597\n",
      "Epoch 47/50\n",
      "2400/2400 [==============================] - 8s 3ms/step - loss: 0.3183 - accuracy: 0.8843 - val_loss: 0.4789 - val_accuracy: 0.8589\n",
      "Epoch 48/50\n",
      "2400/2400 [==============================] - 10s 4ms/step - loss: 0.3201 - accuracy: 0.8851 - val_loss: 0.5271 - val_accuracy: 0.8549\n",
      "Epoch 49/50\n",
      "2400/2400 [==============================] - 9s 4ms/step - loss: 0.3293 - accuracy: 0.8833 - val_loss: 0.4765 - val_accuracy: 0.8648: 0s - loss: 0.331\n",
      "Epoch 50/50\n",
      "2400/2400 [==============================] - 9s 4ms/step - loss: 0.3125 - accuracy: 0.8866 - val_loss: 0.5043 - val_accuracy: 0.8669\n"
     ]
    }
   ],
   "source": [
    "history=model.fit(x_train,y_train,batch_size=20,epochs=50,validation_split=0.2)"
   ]
  },
  {
   "cell_type": "code",
   "execution_count": 105,
   "id": "5f488abb",
   "metadata": {},
   "outputs": [
    {
     "data": {
      "image/png": "[encoded data removed]",
      "text/plain": [
       "<Figure size 432x288 with 1 Axes>"
      ]
     },
     "metadata": {
      "needs_background": "light"
     },
     "output_type": "display_data"
    }
   ],
   "source": [
    "plt.plot(history.history['accuracy'])\n",
    "plt.plot(history.history['val_loss'])\n",
    "plt.title('Model Accuracy')\n",
    "plt.ylabel('Accuracy')\n",
    "plt.xlabel('Epoch')\n",
    "plt.legend(['train', 'loss'], loc='upper left')\n",
    "plt.show()"
   ]
  },
  {
   "cell_type": "code",
   "execution_count": null,
   "id": "c95bb569",
   "metadata": {},
   "outputs": [],
   "source": []
  }
 ],
 "metadata": {
  "kernelspec": {
   "display_name": "Python 3 (ipykernel)",
   "language": "python",
   "name": "python3"
  },
  "language_info": {
   "codemirror_mode": {
    "name": "ipython",
    "version": 3
   },
   "file_extension": ".py",
   "mimetype": "text/x-python",
   "name": "python",
   "nbconvert_exporter": "python",
   "pygments_lexer": "ipython3",
   "version": "3.9.12"
  }
 },
 "nbformat": 4,
 "nbformat_minor": 5
}
